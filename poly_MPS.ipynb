{
 "cells": [
  {
   "cell_type": "code",
   "execution_count": 7,
   "id": "3c86c5c5",
   "metadata": {},
   "outputs": [],
   "source": [
    "import numpy as np\n",
    "from numpy import linalg as LA\n",
    "import random"
   ]
  },
  {
   "attachments": {},
   "cell_type": "markdown",
   "id": "c43272b9",
   "metadata": {},
   "source": [
    "# LOADING POLYNOMIALS USING MPS\n",
    "\n",
    "This set of functions are taken from Maria Cea Fernández"
   ]
  },
  {
   "cell_type": "code",
   "execution_count": 8,
   "id": "48b601ba",
   "metadata": {},
   "outputs": [],
   "source": [
    "import numpy as np\n",
    "from numpy import linalg as LA\n",
    "import random"
   ]
  },
  {
   "cell_type": "code",
   "execution_count": 9,
   "id": "a04cb3c7",
   "metadata": {},
   "outputs": [],
   "source": [
    "# ncon network contractor\n",
    "# by Glen Evenbly (c) for www.tensors.net, (v1.2) - last modified 6/2020\n",
    "\n",
    "# ncon.py\n",
    "import numpy as np\n",
    "from typing import List, Union, Tuple, Optional\n",
    "\n",
    "\n",
    "def ncon(tensors: List[np.ndarray],\n",
    "         connects: List[Union[List[int], Tuple[int]]],\n",
    "         con_order: Optional[Union[List[int], str]] = None,\n",
    "         check_network: Optional[bool] = True,\n",
    "         which_env: Optional[int] = 0):\n",
    "  \"\"\"\n",
    "  Network CONtractor: contracts a tensor network of N tensors via a sequence\n",
    "  of (N-1) tensordot operations. More detailed instructions and examples can\n",
    "  be found at: https://arxiv.org/abs/1402.0939.\n",
    "  Args:\n",
    "    tensors: list of the tensors in the network.\n",
    "    connects: length-N list of lists (or tuples) specifying the network\n",
    "      connections. The jth entry of the ith list in connects labels the edge\n",
    "      connected to the jth index of the ith tensor. Labels should be positive\n",
    "      integers for internal indices and negative integers for free indices.\n",
    "    con_order: optional argument to specify the order for contracting the\n",
    "      positive indices. Defaults to ascending order if omitted. Can also be\n",
    "      set at \"greedy\" or \"full\" to call a solver to automatically determine\n",
    "      the order.\n",
    "    check_network: if true then the input network is checked for consistency;\n",
    "      this can catch many common user mistakes for defining networks.\n",
    "    which_env: if provided, ncon will produce the environment of the requested\n",
    "      tensor (i.e. the network given by removing the specified tensor from\n",
    "      the original network). Only valid for networks with no open indices.\n",
    "  Returns:\n",
    "    Union[np.ndarray,float]: the result of the network contraction; an\n",
    "      np.ndarray if the network contained open indices, otherwise a scalar.\n",
    "  \"\"\"\n",
    "  num_tensors = len(tensors)\n",
    "  tensor_list = [tensors[ele] for ele in range(num_tensors)]\n",
    "  connect_list = [np.array(connects[ele]) for ele in range(num_tensors)]\n",
    "\n",
    "  # generate contraction order if necessary\n",
    "  flat_connect = np.concatenate(connect_list)\n",
    "  if con_order is None:\n",
    "    con_order = np.unique(flat_connect[flat_connect > 0])\n",
    "  else:\n",
    "    con_order = np.array(con_order)\n",
    "\n",
    "  # check inputs if enabled\n",
    "  if check_network:\n",
    "    dims_list = [list(tensor.shape) for tensor in tensor_list]\n",
    "    check_inputs(connect_list, flat_connect, dims_list, con_order)\n",
    "\n",
    "  # do all partial traces\n",
    "  for ele in range(len(tensor_list)):\n",
    "    num_cont = len(connect_list[ele]) - len(np.unique(connect_list[ele]))\n",
    "    if num_cont > 0:\n",
    "      tensor_list[ele], connect_list[ele], cont_ind = partial_trace(\n",
    "          tensor_list[ele], connect_list[ele])\n",
    "      con_order = np.delete(\n",
    "          con_order,\n",
    "          np.intersect1d(con_order, cont_ind, return_indices=True)[1])\n",
    "\n",
    "  # do all binary contractions\n",
    "  while len(con_order) > 0:\n",
    "    # identify tensors to be contracted\n",
    "    cont_ind = con_order[0]\n",
    "    locs = [\n",
    "        ele for ele in range(len(connect_list))\n",
    "        if sum(connect_list[ele] == cont_ind) > 0\n",
    "    ]\n",
    "\n",
    "    # do binary contraction\n",
    "    cont_many, A_cont, B_cont = np.intersect1d(\n",
    "        connect_list[locs[0]],\n",
    "        connect_list[locs[1]],\n",
    "        assume_unique=True,\n",
    "        return_indices=True)\n",
    "    if np.size(tensor_list[locs[0]]) < np.size(tensor_list[locs[1]]):\n",
    "      ind_order = np.argsort(A_cont)\n",
    "    else:\n",
    "      ind_order = np.argsort(B_cont)\n",
    "\n",
    "    tensor_list.append(\n",
    "        np.tensordot(\n",
    "            tensor_list[locs[0]],\n",
    "            tensor_list[locs[1]],\n",
    "            axes=(A_cont[ind_order], B_cont[ind_order])))\n",
    "    connect_list.append(\n",
    "        np.append(\n",
    "            np.delete(connect_list[locs[0]], A_cont),\n",
    "            np.delete(connect_list[locs[1]], B_cont)))\n",
    "\n",
    "    # remove contracted tensors from list and update con_order\n",
    "    del tensor_list[locs[1]]\n",
    "    del tensor_list[locs[0]]\n",
    "    del connect_list[locs[1]]\n",
    "    del connect_list[locs[0]]\n",
    "    con_order = np.delete(\n",
    "        con_order,\n",
    "        np.intersect1d(con_order, cont_many, return_indices=True)[1])\n",
    "\n",
    "  # do all outer products\n",
    "  while len(tensor_list) > 1:\n",
    "    s1 = tensor_list[-2].shape\n",
    "    s2 = tensor_list[-1].shape\n",
    "    tensor_list[-2] = np.outer(tensor_list[-2].reshape(np.prod(s1)),\n",
    "                               tensor_list[-1].reshape(np.prod(s2))).reshape(\n",
    "                                   np.append(s1, s2))\n",
    "    connect_list[-2] = np.append(connect_list[-2], connect_list[-1])\n",
    "    del tensor_list[-1]\n",
    "    del connect_list[-1]\n",
    "\n",
    "  # do final permutation\n",
    "  if len(connect_list[0]) > 0:\n",
    "    return np.transpose(tensor_list[0], np.argsort(-connect_list[0]))\n",
    "  else:\n",
    "    return tensor_list[0].item()\n",
    "\n",
    "\n",
    "def partial_trace(A, A_label):\n",
    "  \"\"\" Partial trace on tensor A over repeated labels in A_label \"\"\"\n",
    "\n",
    "  num_cont = len(A_label) - len(np.unique(A_label))\n",
    "  if num_cont > 0:\n",
    "    dup_list = []\n",
    "    for ele in np.unique(A_label):\n",
    "      if sum(A_label == ele) > 1:\n",
    "        dup_list.append([np.where(A_label == ele)[0]])\n",
    "\n",
    "    cont_ind = np.array(dup_list).reshape(2 * num_cont, order='F')\n",
    "    free_ind = np.delete(np.arange(len(A_label)), cont_ind)\n",
    "\n",
    "    cont_dim = np.prod(np.array(A.shape)[cont_ind[:num_cont]])\n",
    "    free_dim = np.array(A.shape)[free_ind]\n",
    "\n",
    "    B_label = np.delete(A_label, cont_ind)\n",
    "    cont_label = np.unique(A_label[cont_ind])\n",
    "    B = np.zeros(np.prod(free_dim))\n",
    "    A = A.transpose(np.append(free_ind, cont_ind)).reshape(\n",
    "        np.prod(free_dim), cont_dim, cont_dim)\n",
    "    for ip in range(cont_dim):\n",
    "      B = B + A[:, ip, ip]\n",
    "\n",
    "    return B.reshape(free_dim), B_label, cont_label\n",
    "\n",
    "  else:\n",
    "    return A, A_label, []\n",
    "\n",
    "\n",
    "def check_inputs(connect_list, flat_connect, dims_list, con_order):\n",
    "  \"\"\" Check consistancy of NCON inputs\"\"\"\n",
    "\n",
    "  pos_ind = flat_connect[flat_connect > 0]\n",
    "  neg_ind = flat_connect[flat_connect < 0]\n",
    "\n",
    "  # check that lengths of lists match\n",
    "  if len(dims_list) != len(connect_list):\n",
    "    raise ValueError(\n",
    "        ('mismatch between %i tensors given but %i index sublists given') %\n",
    "        (len(dims_list), len(connect_list)))\n",
    "\n",
    "  # check that tensors have the right number of indices\n",
    "  for ele in range(len(dims_list)):\n",
    "    if len(dims_list[ele]) != len(connect_list[ele]):\n",
    "      raise ValueError((\n",
    "          'number of indices does not match number of labels on tensor %i: '\n",
    "          '%i-indices versus %i-labels')\n",
    "          % (ele, len(dims_list[ele]), len(connect_list[ele])))\n",
    "\n",
    "  # check that contraction order is valid\n",
    "  if not np.array_equal(np.sort(con_order), np.unique(pos_ind)):\n",
    "    raise ValueError(('NCON error: invalid contraction order'))\n",
    "\n",
    "  # check that negative indices are valid\n",
    "  for ind in np.arange(-1, -len(neg_ind) - 1, -1):\n",
    "    if sum(neg_ind == ind) == 0:\n",
    "      raise ValueError(('NCON error: no index labelled %i') % (ind))\n",
    "    elif sum(neg_ind == ind) > 1:\n",
    "      raise ValueError(('NCON error: more than one index labelled %i') % (ind))\n",
    "\n",
    "  # check that positive indices are valid and contracted tensor dimensions match\n",
    "  flat_dims = np.array([item for sublist in dims_list for item in sublist])\n",
    "  for ind in np.unique(pos_ind):\n",
    "    if sum(pos_ind == ind) == 1:\n",
    "      raise ValueError(('NCON error: only one index labelled %i') % (ind))\n",
    "    elif sum(pos_ind == ind) > 2:\n",
    "      raise ValueError(\n",
    "          ('NCON error: more than two indices labelled %i') % (ind))\n",
    "\n",
    "    cont_dims = flat_dims[flat_connect == ind]\n",
    "    if cont_dims[0] != cont_dims[1]:\n",
    "      raise ValueError(\n",
    "          ('NCON error: tensor dimension mismatch on index labelled %i: '\n",
    "           'dim-%i versus dim-%i') % (ind, cont_dims[0], cont_dims[1]))\n",
    "\n",
    "  return True"
   ]
  },
  {
   "cell_type": "code",
   "execution_count": 10,
   "id": "cc50e8c5",
   "metadata": {},
   "outputs": [],
   "source": [
    "# The 'MPS' function returns the MPS of a normalized state\n",
    "# L is the number of sites\n",
    "# d is the space dimension of each site\n",
    "# chi is the maximum bond dimension\n",
    "def MPS(state, L, d, chi):\n",
    "    MPS = []\n",
    "    for i in range(L - 1):\n",
    "        if i == 0:\n",
    "            U, S, V = LA.svd(state.reshape(d, d**(L-1)),full_matrices=False)\n",
    "            chil = 1; chir = len(S) \n",
    "            if chi < chir:\n",
    "                S = np.diag(S[range(chi)] / LA.norm(S[range(chi)]))\n",
    "                U = U[:,range(chi)]\n",
    "                V = V[range(chi),:]\n",
    "                chir = chi\n",
    "            else:\n",
    "                S = np.diag(S)\n",
    "            MPS.append(U.reshape(chil, d, chir))\n",
    "            state = ncon([S, V],[[-1,1],[1,-2]])\n",
    "        else:\n",
    "            U, S, V = LA.svd(state.reshape(state.shape[0]*d, state.shape[1]//d),full_matrices=False)\n",
    "            chir = len(S)\n",
    "            if chi < chir:\n",
    "                S = np.diag(S[range(chi)] / LA.norm(S[range(chi)]))\n",
    "                U = U[:,range(chi)]\n",
    "                V = V[range(chi),:]  \n",
    "                chir = chi\n",
    "            else:\n",
    "                S = np.diag(S)\n",
    "            dimU = np.prod(U.shape)\n",
    "            chil = dimU // (d * len(S)); \n",
    "            MPS.append(U.reshape(chil, d, chir))\n",
    "            state = ncon([S, V],[[-1,1],[1,-2]])\n",
    "    dimstate = np.prod(state.shape)\n",
    "    chil = dimstate // d ; chir = 1\n",
    "    MPS.append(state.reshape(chil, d, chir))\n",
    "    return MPS\n",
    "\n",
    "# The 'MPS_contraction' function contracts the tensors \n",
    "#forming an MPS to the original state. \n",
    "#It is used to check the fidelity of the MPS.\n",
    "def MPS_contraction(MPS, L, d):\n",
    "    contraction = MPS[0]\n",
    "    for i in range(L - 1):\n",
    "        contraction = ncon([contraction, MPS[i + 1]],[[-1,-2,1],[1,-3,-4]]).reshape(contraction.shape[0], d ** (i + 2), MPS[i + 1].shape[2])\n",
    "    return contraction[0]\n",
    "\n",
    "# The 'random_state' function returns a random normalized \n",
    "# state given the values of L which is like the number of qubits and d\n",
    "def random_state(L, d):\n",
    "    state = []; norm = 0\n",
    "    for l in range(d ** L):\n",
    "        random_number = random.random()\n",
    "        norm += random_number ** 2\n",
    "        state.append(random_number)\n",
    "    return np.array([l / np.sqrt(norm) for l in state])"
   ]
  },
  {
   "attachments": {},
   "cell_type": "markdown",
   "id": "763aade3",
   "metadata": {},
   "source": [
    "Check how it works for a random tensor"
   ]
  },
  {
   "cell_type": "code",
   "execution_count": 11,
   "id": "ac972b7e",
   "metadata": {},
   "outputs": [
    {
     "name": "stdout",
     "output_type": "stream",
     "text": [
      "[0.02092726 0.00678997 0.02526346 ... 0.02478299 0.04285332 0.04458343]\n",
      "Fidelity for chi = 2:  0.7577199710306088\n",
      "Fidelity for chi = 4:  0.787892256270723\n",
      "Fidelity for chi = 8:  0.862782093707787\n",
      "Fidelity for chi = 16:  0.9731635390741711\n",
      "Fidelity for chi = 32:  1.0000000000000053\n"
     ]
    }
   ],
   "source": [
    "# Let's check how it works for the case of L = 10 and d = 2.\n",
    "L = 10; d = 2; chis = [2,4,8,16,32]\n",
    "# With bound dimension arriving to chi=d^(N/2) you are not compressing anything\n",
    "# In this case is 2^5=32\n",
    "state = random_state(L, d)\n",
    "print(state)\n",
    "for chi in chis:\n",
    "    mps = MPS(state, L, d, chi)\n",
    "    approx_state = MPS_contraction(mps, L, d)\n",
    "    fidelity = np.abs(state @ approx_state)**2\n",
    "    print('Fidelity for chi = '+str(chi)+': ', fidelity[0])"
   ]
  },
  {
   "cell_type": "code",
   "execution_count": 64,
   "id": "26c86bd4",
   "metadata": {},
   "outputs": [
    {
     "name": "stdout",
     "output_type": "stream",
     "text": [
      "[0.24991089]\n",
      "[[0.15492422]\n",
      " [0.05581598]\n",
      " [0.58875343]\n",
      " [0.21211565]\n",
      " [0.18252897]\n",
      " [0.0657614 ]\n",
      " [0.69365884]\n",
      " [0.24991089]]\n"
     ]
    }
   ],
   "source": [
    "chi=1; d=2; L=3\n",
    "state = random_state(L, d)\n",
    "mps=MPS(state, L, d, chi)\n",
    "approx_state = MPS_contraction(mps, L, d)\n",
    "\n",
    "print(mps[0][0][1]*mps[1][0][1]*mps[2][0][1])\n",
    "print(approx_state)"
   ]
  },
  {
   "cell_type": "code",
   "execution_count": 66,
   "id": "74b0488c",
   "metadata": {},
   "outputs": [
    {
     "name": "stdout",
     "output_type": "stream",
     "text": [
      "[array([[[-0.64710168],\n",
      "        [-0.76240371]]]), array([[[-0.25447657],\n",
      "        [-0.96707894]]]), array([[[0.94080365],\n",
      "        [0.33895204]]])]\n"
     ]
    }
   ],
   "source": [
    "print(mps)"
   ]
  },
  {
   "cell_type": "code",
   "execution_count": 72,
   "id": "1d451434",
   "metadata": {},
   "outputs": [
    {
     "data": {
      "text/plain": [
       "3"
      ]
     },
     "execution_count": 72,
     "metadata": {},
     "output_type": "execute_result"
    }
   ],
   "source": [
    "len(mps)"
   ]
  },
  {
   "cell_type": "code",
   "execution_count": 70,
   "id": "da20e4ce",
   "metadata": {},
   "outputs": [
    {
     "name": "stdout",
     "output_type": "stream",
     "text": [
      "[0.94080365]\n"
     ]
    }
   ],
   "source": [
    "print(mps[2][0][0])"
   ]
  },
  {
   "cell_type": "code",
   "execution_count": 71,
   "id": "d8ec7145",
   "metadata": {},
   "outputs": [
    {
     "name": "stdout",
     "output_type": "stream",
     "text": [
      "[4.54914608]\n",
      "[3.65620548]\n",
      "[0.69160555]\n"
     ]
    }
   ],
   "source": [
    "print(2*np.arccos(mps[0][0][0]))\n",
    "print(2*np.arccos(mps[1][0][0]))\n",
    "print(2*np.arccos(mps[2][0][0]))"
   ]
  },
  {
   "attachments": {},
   "cell_type": "markdown",
   "id": "8d03e0a5",
   "metadata": {},
   "source": [
    "### Linear function state\n",
    "\n",
    "$|\\psi\\rangle = \\frac{1}{\\mathcal{N}}\\sum_{i=1}^{2^n} i|i\\rangle$"
   ]
  },
  {
   "cell_type": "code",
   "execution_count": 12,
   "id": "c1878410",
   "metadata": {},
   "outputs": [
    {
     "data": {
      "text/plain": [
       "array([0.        , 0.02839809, 0.05679618, 0.08519428, 0.11359237,\n",
       "       0.14199046, 0.17038855, 0.19878664, 0.22718473, 0.25558283,\n",
       "       0.28398092, 0.31237901, 0.3407771 , 0.36917519, 0.39757328,\n",
       "       0.42597138])"
      ]
     },
     "execution_count": 12,
     "metadata": {},
     "output_type": "execute_result"
    }
   ],
   "source": [
    "# Function that creates the f(x)=x state in amplitudes\n",
    "# For qubits d=2\n",
    "def linear_state(d,qubits):\n",
    "    dim = d**qubits\n",
    "    state = []\n",
    "    norm = 0\n",
    "    for i in range(dim):\n",
    "        state.append(i)\n",
    "        norm += i**2\n",
    "    return np.array([i/np.sqrt(norm) for i in state])\n",
    "\n",
    "linear_state(2,4)\n"
   ]
  },
  {
   "cell_type": "code",
   "execution_count": 13,
   "id": "2ffe566c",
   "metadata": {},
   "outputs": [
    {
     "name": "stdout",
     "output_type": "stream",
     "text": [
      "NUMBER OF QUBITS = 1\n",
      "Fidelity for chi = 1:  1.0\n",
      "Fidelity for chi = 2:  1.0\n",
      "Fidelity for chi = 4:  1.0\n",
      "NUMBER OF QUBITS = 2\n",
      "Fidelity for chi = 1:  0.9791574237499551\n",
      "Fidelity for chi = 2:  1.0\n",
      "Fidelity for chi = 4:  1.0\n",
      "NUMBER OF QUBITS = 3\n",
      "Fidelity for chi = 1:  0.9828915665604511\n",
      "Fidelity for chi = 2:  1.0000000000000004\n",
      "Fidelity for chi = 4:  1.0000000000000004\n",
      "NUMBER OF QUBITS = 4\n",
      "Fidelity for chi = 1:  0.9852447189941068\n",
      "Fidelity for chi = 2:  0.9999999999999998\n",
      "Fidelity for chi = 4:  0.9999999999999996\n",
      "NUMBER OF QUBITS = 5\n",
      "Fidelity for chi = 1:  0.9864349456807145\n",
      "Fidelity for chi = 2:  0.9999999999999991\n",
      "Fidelity for chi = 4:  0.9999999999999996\n",
      "NUMBER OF QUBITS = 6\n",
      "Fidelity for chi = 1:  0.987025642928207\n",
      "Fidelity for chi = 2:  1.0000000000000004\n",
      "Fidelity for chi = 4:  1.0\n",
      "NUMBER OF QUBITS = 7\n",
      "Fidelity for chi = 1:  0.9873191356010879\n",
      "Fidelity for chi = 2:  1.0000000000000013\n",
      "Fidelity for chi = 4:  1.0000000000000027\n",
      "NUMBER OF QUBITS = 8\n",
      "Fidelity for chi = 1:  0.987465335500713\n",
      "Fidelity for chi = 2:  1.0000000000000009\n",
      "Fidelity for chi = 4:  1.0000000000000018\n",
      "NUMBER OF QUBITS = 9\n",
      "Fidelity for chi = 1:  0.9875382891885716\n",
      "Fidelity for chi = 2:  0.9999999999999987\n",
      "Fidelity for chi = 4:  1.0\n",
      "NUMBER OF QUBITS = 10\n",
      "Fidelity for chi = 1:  0.987574728299312\n",
      "Fidelity for chi = 2:  1.0000000000000009\n",
      "Fidelity for chi = 4:  1.0\n",
      "NUMBER OF QUBITS = 11\n",
      "Fidelity for chi = 1:  0.987592938277798\n",
      "Fidelity for chi = 2:  1.0000000000000027\n",
      "Fidelity for chi = 4:  1.0000000000000018\n",
      "NUMBER OF QUBITS = 12\n",
      "Fidelity for chi = 1:  0.9876020408550138\n",
      "Fidelity for chi = 2:  1.0000000000000009\n",
      "Fidelity for chi = 4:  0.9999999999999996\n",
      "NUMBER OF QUBITS = 13\n",
      "Fidelity for chi = 1:  0.9876065915384028\n",
      "Fidelity for chi = 2:  1.0000000000000009\n",
      "Fidelity for chi = 4:  1.0000000000000009\n",
      "NUMBER OF QUBITS = 14\n",
      "Fidelity for chi = 1:  0.9876088667285136\n",
      "Fidelity for chi = 2:  1.0000000000000004\n",
      "Fidelity for chi = 4:  0.9999999999999996\n",
      "NUMBER OF QUBITS = 15\n",
      "Fidelity for chi = 1:  0.9876100042856379\n",
      "Fidelity for chi = 2:  1.0000000000000018\n"
     ]
    },
    {
     "name": "stdout",
     "output_type": "stream",
     "text": [
      "Fidelity for chi = 4:  1.0000000000000022\n",
      "NUMBER OF QUBITS = 16\n",
      "Fidelity for chi = 1:  0.9876105730547129\n",
      "Fidelity for chi = 2:  1.0000000000000004\n",
      "Fidelity for chi = 4:  1.0\n",
      "NUMBER OF QUBITS = 17\n",
      "Fidelity for chi = 1:  0.9876108574368823\n",
      "Fidelity for chi = 2:  1.0000000000000004\n",
      "Fidelity for chi = 4:  1.0000000000000004\n",
      "NUMBER OF QUBITS = 18\n",
      "Fidelity for chi = 1:  0.987610999627371\n",
      "Fidelity for chi = 2:  1.0000000000000022\n",
      "Fidelity for chi = 4:  1.0000000000000009\n",
      "NUMBER OF QUBITS = 19\n",
      "Fidelity for chi = 1:  0.9876110707224667\n",
      "Fidelity for chi = 2:  1.000000000000003\n",
      "Fidelity for chi = 4:  1.0000000000000022\n",
      "NUMBER OF QUBITS = 20\n",
      "Fidelity for chi = 1:  0.9876111062699828\n",
      "Fidelity for chi = 2:  1.0000000000000013\n",
      "Fidelity for chi = 4:  1.0000000000000013\n"
     ]
    }
   ],
   "source": [
    "qubits = [1,2,3,4,5,6,7,8,9,10,11,12,13,14,15,16,17,18,19,20]; d = 2; chis = [1,2,4]\n",
    "for L in qubits:\n",
    "    print('NUMBER OF QUBITS =', L)\n",
    "    state = linear_state(d, L)\n",
    "    for chi in chis:\n",
    "        mps = MPS(state, L, d, chi)\n",
    "        approx_state = MPS_contraction(mps, L, d)\n",
    "        fidelity = np.abs(state @ approx_state)**2\n",
    "        print('Fidelity for chi = '+str(chi)+': ', fidelity[0])"
   ]
  },
  {
   "cell_type": "code",
   "execution_count": 14,
   "id": "a09e20aa",
   "metadata": {},
   "outputs": [
    {
     "name": "stdout",
     "output_type": "stream",
     "text": [
      "[[0.07417961]\n",
      " [0.08198506]\n",
      " [0.09079722]\n",
      " [0.10035123]\n",
      " [0.11315503]\n",
      " [0.12506161]\n",
      " [0.13850385]\n",
      " [0.15307773]\n",
      " [0.22058418]\n",
      " [0.24379485]\n",
      " [0.26999913]\n",
      " [0.29840941]\n",
      " [0.33648343]\n",
      " [0.37188943]\n",
      " [0.41186194]\n",
      " [0.45519955]]\n",
      "[0.98524472]\n",
      "[0.         0.02839809 0.05679618 0.08519428 0.11359237 0.14199046\n",
      " 0.17038855 0.19878664 0.22718473 0.25558283 0.28398092 0.31237901\n",
      " 0.3407771  0.36917519 0.39757328 0.42597138]\n"
     ]
    }
   ],
   "source": [
    "d=2; chi=1; L=4\n",
    "state = linear_state(d, L)\n",
    "mps = MPS(state, L, d, chi)\n",
    "approx_state = MPS_contraction(mps, L, d)\n",
    "fidelity = np.abs(state @ approx_state)**2\n",
    "print(approx_state)\n",
    "print(fidelity)\n",
    "print(state)"
   ]
  },
  {
   "attachments": {},
   "cell_type": "markdown",
   "id": "47f6ab08",
   "metadata": {},
   "source": [
    "CONCLUSION: for chi=1 very good fidelities and for chi=2 is exact"
   ]
  },
  {
   "attachments": {},
   "cell_type": "markdown",
   "id": "f1e19348",
   "metadata": {},
   "source": [
    "# MONOMIALS"
   ]
  },
  {
   "cell_type": "code",
   "execution_count": 15,
   "id": "1d08b769",
   "metadata": {},
   "outputs": [],
   "source": [
    "import matplotlib.pyplot as plt\n",
    "import numpy as np\n",
    "from numpy import linalg as LA\n",
    "# Function that creates the f(x)=x state in amplitudes\n",
    "# For qubits d=2\n",
    "def monomial_state(d,qubits,degree):\n",
    "    '''\n",
    "    Given a physical dimension and a number of qubits this function returns you the monomial of a given degree encoded in the \n",
    "    amplitudes of a quantum state\n",
    "    '''\n",
    "    dim = d**qubits\n",
    "    state = []\n",
    "    norm = 0\n",
    "    for i in range(dim):\n",
    "        element = i**degree\n",
    "        state.append(element)\n",
    "        norm += np.abs(element)**2\n",
    "    norm = np.sqrt(norm)\n",
    "    return np.array([i/norm for i in state])"
   ]
  },
  {
   "attachments": {},
   "cell_type": "markdown",
   "id": "f3d17212",
   "metadata": {},
   "source": [
    "$f(x)=x^3$ for different number of qubits and bond dimensions"
   ]
  },
  {
   "cell_type": "code",
   "execution_count": 16,
   "id": "411d31e9",
   "metadata": {},
   "outputs": [
    {
     "name": "stdout",
     "output_type": "stream",
     "text": [
      "NUMBER OF QUBITS = 1\n",
      "Fidelity for chi = 1:  1.0\n",
      "Fidelity for chi = 2:  1.0\n",
      "Fidelity for chi = 4:  1.0\n",
      "NUMBER OF QUBITS = 2\n",
      "Fidelity for chi = 1:  0.9998984726468507\n",
      "Fidelity for chi = 2:  1.0\n",
      "Fidelity for chi = 4:  1.0\n",
      "NUMBER OF QUBITS = 3\n",
      "Fidelity for chi = 1:  0.9986055035617339\n",
      "Fidelity for chi = 2:  0.9999999999999989\n",
      "Fidelity for chi = 4:  0.9999999999999989\n",
      "NUMBER OF QUBITS = 4\n",
      "Fidelity for chi = 1:  0.9982058849231777\n",
      "Fidelity for chi = 2:  0.9999974420806695\n",
      "Fidelity for chi = 4:  1.0000000000000004\n",
      "NUMBER OF QUBITS = 5\n",
      "Fidelity for chi = 1:  0.9980953801079147\n",
      "Fidelity for chi = 2:  0.9999966961088567\n",
      "Fidelity for chi = 4:  1.0000000000000027\n",
      "NUMBER OF QUBITS = 6\n",
      "Fidelity for chi = 1:  0.9980621046872317\n",
      "Fidelity for chi = 2:  0.9999965342583778\n",
      "Fidelity for chi = 4:  1.0000000000000004\n",
      "NUMBER OF QUBITS = 7\n",
      "Fidelity for chi = 1:  0.9980507862791873\n",
      "Fidelity for chi = 2:  0.999996508454697\n",
      "Fidelity for chi = 4:  1.0\n",
      "NUMBER OF QUBITS = 8\n",
      "Fidelity for chi = 1:  0.9980464289500627\n",
      "Fidelity for chi = 2:  0.999996509229461\n",
      "Fidelity for chi = 4:  1.0000000000000013\n",
      "NUMBER OF QUBITS = 9\n",
      "Fidelity for chi = 1:  0.9980445719332499\n",
      "Fidelity for chi = 2:  0.9999965130006649\n",
      "Fidelity for chi = 4:  0.9999999999999996\n",
      "NUMBER OF QUBITS = 10\n",
      "Fidelity for chi = 1:  81.45828873224264\n",
      "Fidelity for chi = 2:  81.61767165537171\n",
      "Fidelity for chi = 4:  81.61795603465431\n"
     ]
    },
    {
     "name": "stderr",
     "output_type": "stream",
     "text": [
      "/var/folders/tb/j0cz1kzd4n3_khmr9l6l8blm0000gn/T/ipykernel_97276/3657357572.py:17: RuntimeWarning: overflow encountered in long_scalars\n",
      "  norm += np.abs(element)**2\n"
     ]
    }
   ],
   "source": [
    "qubits = [1,2,3,4,5,6,7,8,9,10]; d = 2; chis = [1,2,4]; degree = 3\n",
    "for L in qubits:\n",
    "    print('NUMBER OF QUBITS =', L)\n",
    "    state = monomial_state(d, L, degree)\n",
    "    for chi in chis:\n",
    "        mps = MPS(state, L, d, chi)\n",
    "        approx_state = MPS_contraction(mps, L, d)\n",
    "        fidelity = np.abs(state @ approx_state)**2\n",
    "        print('Fidelity for chi = '+str(chi)+': ', fidelity[0])"
   ]
  },
  {
   "attachments": {},
   "cell_type": "markdown",
   "id": "94b0a623",
   "metadata": {},
   "source": [
    "$f(x)=x^2$"
   ]
  },
  {
   "cell_type": "code",
   "execution_count": 17,
   "id": "26c0edce",
   "metadata": {},
   "outputs": [
    {
     "name": "stdout",
     "output_type": "stream",
     "text": [
      "MPS for chi=1: [array([[[-0.14969058],\n",
      "        [-0.98873289]]]), array([[[-0.44332401],\n",
      "        [-0.89636144]]]), array([[[-0.58391484],\n",
      "        [-0.81181491]]]), array([[[-0.64776807],\n",
      "        [-0.7618376 ]]])]\n",
      "Fidelity= [0.99533044]\n",
      "Approx state: [[0.02510064 0.02952077 0.03489734 0.04104263 0.05075124 0.05968835\n",
      "  0.07055929 0.08298451 0.16579418 0.19498991 0.23050311 0.27109385\n",
      "  0.33522098 0.39425214 0.46605665 0.54812748]]\n",
      "Exact state: [0.         0.00236815 0.00947261 0.02131337 0.03789044 0.05920382\n",
      " 0.0852535  0.11603949 0.15156178 0.19182037 0.23681528 0.28654648\n",
      " 0.341014   0.40021782 0.46415794 0.53283437]\n"
     ]
    }
   ],
   "source": [
    "L = 4; d = 2; chi = 1; degree = 2\n",
    "state = monomial_state(d, L, degree)\n",
    "mps = MPS(state, L, d, chi)\n",
    "print('MPS for chi=1:',mps)\n",
    "approx_state = MPS_contraction(mps, L, d)\n",
    "fidelity = np.abs(state @ approx_state)**2\n",
    "print('Fidelity=',fidelity)\n",
    "print('Approx state:',approx_state.reshape(1, -1))\n",
    "print('Exact state:',state)"
   ]
  },
  {
   "cell_type": "code",
   "execution_count": 18,
   "id": "cafd6031",
   "metadata": {},
   "outputs": [
    {
     "data": {
      "text/plain": [
       "[<matplotlib.lines.Line2D at 0x114898350>]"
      ]
     },
     "execution_count": 18,
     "metadata": {},
     "output_type": "execute_result"
    },
    {
     "data": {
      "image/png": "[encoded data removed]",
      "text/plain": [
       "<Figure size 640x480 with 1 Axes>"
      ]
     },
     "metadata": {},
     "output_type": "display_data"
    }
   ],
   "source": [
    "import matplotlib.pyplot as plt\n",
    "plt.plot(approx_state)\n",
    "plt.plot(state)"
   ]
  },
  {
   "attachments": {},
   "cell_type": "markdown",
   "id": "bcc14dab",
   "metadata": {},
   "source": [
    "$f(x)=sin(x)$ \\\n",
    "We know that this can be loaded with a 100% accuracy for bond dimension=2"
   ]
  },
  {
   "cell_type": "code",
   "execution_count": 19,
   "id": "b25c2ba2",
   "metadata": {},
   "outputs": [],
   "source": [
    "import matplotlib.pyplot as plt\n",
    "import numpy as np\n",
    "from numpy import linalg as LA\n",
    "\n",
    "def sinus_state(d,qubits):\n",
    "    dim = d**qubits\n",
    "    state = [0]\n",
    "    norm = 0\n",
    "    for i in range(1,dim):\n",
    "        element = np.sin(np.pi*2*i/(dim-1))\n",
    "        state.append(element)\n",
    "        norm += np.abs(element)**2\n",
    "    norm = np.sqrt(norm)\n",
    "    return np.array([i/norm for i in state])"
   ]
  },
  {
   "cell_type": "code",
   "execution_count": 20,
   "id": "205fbbb8",
   "metadata": {},
   "outputs": [
    {
     "data": {
      "image/png": "[encoded data removed]",
      "text/plain": [
       "<Figure size 640x480 with 1 Axes>"
      ]
     },
     "metadata": {},
     "output_type": "display_data"
    }
   ],
   "source": [
    "# FIDELITY FOR THE SINUS STATE FOR BOND DIMENSION=1\n",
    "\n",
    "qubits = [j for j in range(2,21)]; d = 2; chi = 1\n",
    "fidelities = []\n",
    "for L in qubits:\n",
    "    state = sinus_state(d, L)\n",
    "    mps = MPS(state, L, d, chi)\n",
    "    approx_state = MPS_contraction(mps, L, d)\n",
    "    fidelity = np.abs(state @ approx_state)**2\n",
    "    fidelities.append(fidelity)\n",
    "\n",
    "plt.plot(qubits, fidelities)\n",
    "plt.xlabel('Qubits')\n",
    "plt.ylabel('Fidelities')\n",
    "plt.title('Bond dimension=1')\n",
    "plt.xticks(range(2, 21, 1))\n",
    "\n",
    "plt.show()"
   ]
  },
  {
   "cell_type": "code",
   "execution_count": 21,
   "id": "c670db8e",
   "metadata": {},
   "outputs": [
    {
     "name": "stdout",
     "output_type": "stream",
     "text": [
      "Fidelity= [1.]\n"
     ]
    },
    {
     "data": {
      "text/plain": [
       "[<matplotlib.lines.Line2D at 0x113331cd0>]"
      ]
     },
     "execution_count": 21,
     "metadata": {},
     "output_type": "execute_result"
    },
    {
     "data": {
      "image/png": "[encoded data removed]",
      "text/plain": [
       "<Figure size 640x480 with 1 Axes>"
      ]
     },
     "metadata": {},
     "output_type": "display_data"
    }
   ],
   "source": [
    "# PARTICULAR CASE FOR 8 QUBITS\n",
    "# Here the MPS gets stucked \n",
    "\n",
    "L = 8; d = 2; chi = 2\n",
    "state = sinus_state(d, L)\n",
    "mps = MPS(state, L, d, chi)\n",
    "approx_state = MPS_contraction(mps, L, d)\n",
    "fidelity = np.abs(state @ approx_state)**2\n",
    "print('Fidelity=',fidelity)\n",
    "\n",
    "import matplotlib.pyplot as plt\n",
    "plt.plot(approx_state)\n",
    "plt.plot(state)"
   ]
  },
  {
   "attachments": {},
   "cell_type": "markdown",
   "id": "6022b765",
   "metadata": {},
   "source": [
    "### Angles vs k (position in the mps)\n",
    "\n",
    "For N=4,5,6,7,8 qubits, the angle to load the linear state at each MPS of bound dimension 1"
   ]
  },
  {
   "cell_type": "code",
   "execution_count": 22,
   "id": "08959b1d",
   "metadata": {},
   "outputs": [
    {
     "data": {
      "image/png": "[encoded data removed]",
      "text/plain": [
       "<Figure size 640x480 with 1 Axes>"
      ]
     },
     "metadata": {},
     "output_type": "display_data"
    }
   ],
   "source": [
    "d = 2; chi = 1\n",
    "qubits_list=[4,5,6,7,8,9,10,11,12]\n",
    "angles=[],[],[],[],[], [], [], [], []\n",
    "for i,k in enumerate(qubits_list):\n",
    "    state = linear_state(d,k)\n",
    "    mps = MPS(state, k, d, chi) \n",
    "    approx_state = MPS_contraction(mps, k, d)\n",
    "    for l in range(k):\n",
    "        element = np.arccos(np.abs(mps[l][0][0][0]))\n",
    "        angles[i].append(element) \n",
    "\n",
    "for i in range(len(qubits_list)):\n",
    "    plt.plot(angles[i])"
   ]
  },
  {
   "cell_type": "code",
   "execution_count": 23,
   "id": "48dce368",
   "metadata": {},
   "outputs": [
    {
     "name": "stdout",
     "output_type": "stream",
     "text": [
      "[1.2463897548841056, 0.9905242696369762, 0.8857864793881491, 0.8353387641403583]\n",
      "[1.234534228251854, 0.9865535934957365, 0.8839267958276448, 0.834422918155581, 0.8098810662516717]\n",
      "[1.2288919900398982, 0.9846237845177784, 0.8830208485882147, 0.8339765337975761, 0.80965867640223, 0.7975248496071032]\n",
      "[1.2261379798793945, 0.9836726276647318, 0.88257383263016, 0.8337562232826287, 0.8095489106182061, 0.7974700150900129, 0.7914336494211689]\n",
      "[1.224777251106696, 0.9832004636552629, 0.8823518090926771, 0.8336467865697497, 0.8094943841484149, 0.7974427756896011, 0.7914200326955803, 0.7884090434533939]\n",
      "[1.2241008951292556, 0.9829652321445265, 0.8822411676524389, 0.8335922475347185, 0.8094672098707193, 0.797429200380864, 0.7914132465176534, 0.788405650548913, 0.7869019001725007]\n",
      "[1.2237637117774218, 0.982847828606742, 0.8821859394074312, 0.8335650228035214, 0.8094536449502764, 0.7974224238140528, 0.7914098589697691, 0.7884039568668749, 0.7869010533429689, 0.7861496075215714]\n",
      "[1.2235953678348337, 0.9827891798404809, 0.8821583483897699, 0.8335514216287151, 0.8094468680419026, 0.7974190383011771, 0.7914081665804197, 0.788403110718068, 0.7869006302742978, 0.7861493959879532, 0.7857737795867111]\n",
      "[1.2235112576815874, 0.982759868701476, 0.8821445586553732, 0.8335446238382699, 0.8094434809753254, 0.7974173462371974, 0.7914073207318059, 0.7884026878166747, 0.7869004188264652, 0.7861492902643945, 0.7857737267249773, 0.7855859450479693]\n"
     ]
    }
   ],
   "source": [
    "for i in range(len(qubits_list)):\n",
    "    print(angles[i])"
   ]
  },
  {
   "attachments": {},
   "cell_type": "markdown",
   "id": "e27da2ea",
   "metadata": {},
   "source": [
    "### Norm 2 instead of fidelity as figure of merit\n",
    "\n",
    "$L_2=\\sqrt{\\frac{\\sum (x_i-x_i')^2}{2^N}}$"
   ]
  },
  {
   "cell_type": "code",
   "execution_count": 24,
   "id": "3e3654e6",
   "metadata": {},
   "outputs": [],
   "source": [
    "def norm_2(exact,approximate):\n",
    "    length = len(exact)\n",
    "    sum = 0\n",
    "    for i in range(length):\n",
    "        sum = sum + (exact[i]-approximate[i])**2\n",
    "    return np.sqrt(sum/length)"
   ]
  },
  {
   "attachments": {},
   "cell_type": "markdown",
   "id": "9d048bbb",
   "metadata": {},
   "source": [
    "$f(x)=x$"
   ]
  },
  {
   "cell_type": "code",
   "execution_count": 25,
   "id": "9030aef1",
   "metadata": {},
   "outputs": [
    {
     "name": "stdout",
     "output_type": "stream",
     "text": [
      "NUMBER OF QUBITS = 3\n",
      "Norm 2 for chi = 1:  0.046344148483362\n",
      "Norm 2 for chi = 2:  1.9421503246222267e-16\n",
      "NUMBER OF QUBITS = 4\n",
      "Norm 2 for chi = 1:  0.03042420488798255\n",
      "Norm 2 for chi = 2:  9.564065654677687e-17\n",
      "NUMBER OF QUBITS = 5\n",
      "Norm 2 for chi = 1:  0.020624145193673435\n",
      "Norm 2 for chi = 2:  1.3485938528937666e-16\n",
      "NUMBER OF QUBITS = 6\n",
      "Norm 2 for chi = 1:  0.014261352821037545\n",
      "Norm 2 for chi = 2:  5.732686748007882e-17\n"
     ]
    }
   ],
   "source": [
    "qubits_list = [3,4,5,6]; xis = [1,2]; d = 2; degree = 1 #LINEAR FUNCTION\n",
    "for L in qubits_list:\n",
    "    print('NUMBER OF QUBITS =', L)\n",
    "    state = monomial_state(d, L, degree)\n",
    "    for chi in xis:\n",
    "        mps = MPS(state, L, d, chi)\n",
    "        approx_state = MPS_contraction(mps, L, d)\n",
    "        norm = norm_2(state,approx_state)\n",
    "        print('Norm 2 for chi = '+str(chi)+': ', norm[0])"
   ]
  },
  {
   "attachments": {},
   "cell_type": "markdown",
   "id": "c562e938",
   "metadata": {},
   "source": [
    "$f(x)=x^2$"
   ]
  },
  {
   "cell_type": "code",
   "execution_count": 26,
   "id": "e8fff6ae",
   "metadata": {},
   "outputs": [
    {
     "name": "stdout",
     "output_type": "stream",
     "text": [
      "NUMBER OF QUBITS = 3\n",
      "Fidelity for chi = 1:  0.022648160493276587\n",
      "Fidelity for chi = 2:  1.6653495157438603e-16\n",
      "Fidelity for chi = 3:  1.6653495157438603e-16\n",
      "NUMBER OF QUBITS = 4\n",
      "Fidelity for chi = 1:  0.01709352864139429\n",
      "Fidelity for chi = 2:  0.0008011542784134627\n",
      "Fidelity for chi = 3:  1.473659059458573e-16\n",
      "NUMBER OF QUBITS = 5\n",
      "Fidelity for chi = 1:  0.012271289907592667\n",
      "Fidelity for chi = 2:  0.0005819852208796985\n",
      "Fidelity for chi = 3:  8.586457759967129e-17\n",
      "NUMBER OF QUBITS = 6\n",
      "Fidelity for chi = 1:  0.008712760888024848\n",
      "Fidelity for chi = 2:  0.00040203114047489703\n",
      "Fidelity for chi = 3:  8.693787911345886e-17\n"
     ]
    }
   ],
   "source": [
    "qubits_list = [3,4,5,6]; xis = [1,2,3]; d = 2; degree = 2 #LINEAR FUNCTION\n",
    "for L in qubits_list:\n",
    "    print('NUMBER OF QUBITS =', L)\n",
    "    state = monomial_state(d, L, degree)\n",
    "    for chi in xis:\n",
    "        mps = MPS(state, L, d, chi)\n",
    "        approx_state = MPS_contraction(mps, L, d)\n",
    "        norm = norm_2(state,approx_state)\n",
    "        print('Fidelity for chi = '+str(chi)+': ', norm[0])"
   ]
  },
  {
   "attachments": {},
   "cell_type": "markdown",
   "id": "923cd4dd",
   "metadata": {},
   "source": [
    "### Polynomials\n",
    "\n",
    "Option 0: $f(x)=x+x^3$\n",
    "\n",
    "Option 1: $f(x)=x+x^2+x^3$\n",
    "\n",
    "Option 2: $f(x)=x+8000x^3$\n",
    "\n",
    "Option 2: $f(x)=10x+30$\n",
    "\n",
    "Option 4: $f(x)=8000x+x^3$\n",
    "\n",
    "Option 5: $f(x)=(x-2)(x-10)(x-13)$\n",
    "\n",
    "Option 6: $f(x)=(x-3)(x-5)(x-7)$"
   ]
  },
  {
   "cell_type": "code",
   "execution_count": 27,
   "id": "3886de9a",
   "metadata": {},
   "outputs": [
    {
     "data": {
      "text/plain": [
       "[<matplotlib.lines.Line2D at 0x11ecaa190>]"
      ]
     },
     "execution_count": 27,
     "metadata": {},
     "output_type": "execute_result"
    },
    {
     "data": {
      "image/png": "[encoded data removed]",
      "text/plain": [
       "<Figure size 640x480 with 1 Axes>"
      ]
     },
     "metadata": {},
     "output_type": "display_data"
    }
   ],
   "source": [
    "import matplotlib.pyplot as plt\n",
    "import numpy as np\n",
    "from numpy import linalg as LA\n",
    "# Function that creates the f(x)=x state in amplitudes\n",
    "# For qubits d=2\n",
    "def polinomial_state(d,qubits,option):\n",
    "    dim = d**qubits\n",
    "    state = []\n",
    "    norm = 0\n",
    "    for i in range(dim):\n",
    "        if option==0:\n",
    "            element = 200*i+i**3\n",
    "        if option==1:\n",
    "            element = i+i**2+i**3\n",
    "        if option==2:\n",
    "            element = i+8000*i**3\n",
    "        if option==3:\n",
    "            element = 10*i+80\n",
    "        if option==4:\n",
    "            element = 8000*i+i**3\n",
    "        if option==5:\n",
    "            element = (i-2)*(i-10)*(i-12)\n",
    "        if option==6:\n",
    "            element = (i-1)*(i-20)*(i-50)*(i-60)\n",
    "        if option==7:\n",
    "            element = -1+i**2\n",
    "        if option==8:\n",
    "            element = 1/(1+np.exp(-(i-8)))\n",
    "        state.append(element)\n",
    "        norm += np.abs(element)**2\n",
    "    norm = np.sqrt(norm)\n",
    "    return np.array([i/norm for i in state])\n",
    "\n",
    "'''''\n",
    "plt.plot(polinomial_state(2,4,0))\n",
    "plt.plot(polinomial_state(2,4,1))\n",
    "plt.plot(polinomial_state(2,4,2))\n",
    "plt.plot(polinomial_state(2,4,3))\n",
    "plt.plot(polinomial_state(2,4,4))\n",
    "'''''\n",
    "example=6\n",
    "d=2\n",
    "qubits=6\n",
    "plt.plot(polinomial_state(d,qubits,example))"
   ]
  },
  {
   "attachments": {},
   "cell_type": "markdown",
   "id": "46602a50",
   "metadata": {},
   "source": [
    "$|\\psi\\rangle = \\sum_i f(x_i)|i\\rangle $"
   ]
  },
  {
   "cell_type": "code",
   "execution_count": 28,
   "id": "3330e6c9",
   "metadata": {},
   "outputs": [
    {
     "data": {
      "image/png": "[encoded data removed]",
      "text/plain": [
       "<Figure size 1600x400 with 4 Axes>"
      ]
     },
     "metadata": {},
     "output_type": "display_data"
    }
   ],
   "source": [
    "import matplotlib.pyplot as plt\n",
    "\n",
    "d=2; L=6; chis=[1,2,3,4]\n",
    "example=6\n",
    "fidelities=[]\n",
    "states=[]\n",
    "state = polinomial_state(d, L, example)\n",
    "\n",
    "for i in range(4):\n",
    "    chi=chis[i]\n",
    "    mps = MPS(state, L, d, chi)\n",
    "    approx_state = MPS_contraction(mps, L, d)\n",
    "    states.append(approx_state.reshape(1, -1))\n",
    "\n",
    "    fidelity = np.abs(state @ approx_state)**2\n",
    "    fidelities.append(fidelity)\n",
    "\n",
    "# Generate some dummy data for plotting\n",
    "x = [j for j in range(2**L)]\n",
    "y1 = states[0][0]\n",
    "y2 = states[1][0]\n",
    "y3 = states[2][0]\n",
    "y4 = states[3][0]\n",
    "\n",
    "# Create the subplots\n",
    "fig, axes = plt.subplots(1, 4, figsize=(16, 4))\n",
    "\n",
    "# Plot the data and set titles and legends for each subplot\n",
    "axes[0].plot(x, y1, label='MPS')\n",
    "axes[0].plot(x, state, label='Exact')\n",
    "axes[0].set_xlabel('Basis element coefficient i')\n",
    "axes[0].set_ylabel('$f(x)$')\n",
    "axes[0].set_title('$\\chi=1$')\n",
    "text = f'Fidelity= {fidelities[0][0]:.4f}'\n",
    "axes[0].text(8, 0, text, fontsize=10, color='black')\n",
    "# axes[0].set_ylim(-0.8,0.5)\n",
    "axes[0].legend()\n",
    "\n",
    "axes[1].plot(x, y2, label='MPS')\n",
    "axes[1].plot(x, state, label='Exact')\n",
    "axes[1].set_xlabel('Basis element coefficient i')\n",
    "axes[1].set_ylabel('$f(x)$')\n",
    "axes[1].set_title('$\\chi=2$')\n",
    "text = f'Fidelity= {fidelities[1][0]:.4f}'\n",
    "axes[1].text(8,0, text, fontsize=10, color='black')\n",
    "# axes[1].set_ylim(-0.8,0.5)\n",
    "axes[1].legend()\n",
    "\n",
    "axes[2].plot(x, y3, label='MPS')\n",
    "axes[2].plot(x, state, label='Exact')\n",
    "axes[2].set_xlabel('Basis element coefficient i')\n",
    "axes[2].set_ylabel('$f(x)$')\n",
    "axes[2].set_title('$\\chi=3$')\n",
    "text = f'Fidelity= {fidelities[2][0]:.4f}'\n",
    "axes[2].text(8,0, text, fontsize=10, color='black')\n",
    "# axes[2].set_ylim(-0.8,0.5)\n",
    "axes[2].legend()\n",
    "\n",
    "axes[3].plot(x, y4, label='MPS')\n",
    "axes[3].plot(x, state, label='Exact')\n",
    "axes[3].set_xlabel('Basis element coefficient i')\n",
    "axes[3].set_ylabel('$f(x)$')\n",
    "axes[3].set_title('$\\chi=4$')\n",
    "text = f'Fidelity= {fidelities[3][0]:.4f}'\n",
    "axes[3].text(8,0, text, fontsize=10, color='black')\n",
    "# axes[2].set_ylim(-0.8,0.5)\n",
    "axes[3].legend()\n",
    "\n",
    "fig.suptitle(f'Example= {example:.0f}')\n",
    "\n",
    "# Adjust the spacing between subplots\n",
    "plt.tight_layout()\n",
    "\n",
    "# Display the plot\n",
    "plt.show()\n"
   ]
  },
  {
   "cell_type": "code",
   "execution_count": 29,
   "id": "163e4257",
   "metadata": {},
   "outputs": [
    {
     "name": "stdout",
     "output_type": "stream",
     "text": [
      "[ 0.06310024  0.         -0.05270132 -0.09579247 -0.13003697 -0.15617308\n",
      " -0.17491385 -0.18694707 -0.19293528 -0.1935158  -0.18930071 -0.18087683\n",
      " -0.16880575 -0.15362383 -0.13584219 -0.11594668 -0.09439795 -0.07163139\n",
      " -0.04805714 -0.02406012  0.          0.02378879  0.04699706  0.06934085\n",
      "  0.09056146  0.11042541  0.12872448  0.14527567  0.15992124  0.17252867\n",
      "  0.18299068  0.19122527  0.19717562  0.20081019  0.20212268  0.201132\n",
      "  0.19788234  0.1924431   0.18490893  0.17539973  0.16406061  0.15106197\n",
      "  0.13659939  0.12089374  0.10419111  0.08676282  0.06890546  0.05094082\n",
      "  0.03321596  0.01610318  0.         -0.0146708  -0.02746122 -0.037898\n",
      " -0.04548265 -0.04969144 -0.04997539 -0.04576029 -0.0364467  -0.02140991\n",
      "  0.          0.02845821  0.06466512  0.1093464 ]\n",
      "[-0.15518911 -0.15849285 -0.16187217 -0.16531818 -0.168875   -0.17247009\n",
      " -0.17614744 -0.17989735 -0.18314591 -0.1870448  -0.1910329  -0.1950997\n",
      " -0.19929727 -0.20354    -0.20787981 -0.21230525  0.05329049  0.05442496\n",
      "  0.05558539  0.05676872  0.0579901   0.05922462  0.06048738  0.06177507\n",
      "  0.06289059  0.06422944  0.06559891  0.06699541  0.06843682  0.06989373\n",
      "  0.07138398  0.07290364  0.12665215  0.12934838  0.1321063   0.13491864\n",
      "  0.13782141  0.14075542  0.14375655  0.14681691  0.14946811  0.15265006\n",
      "  0.15590481  0.15922378  0.16264948  0.16611204  0.16965382  0.17326548\n",
      " -0.04349116 -0.04441702 -0.04536407 -0.0463298  -0.04732658 -0.04833409\n",
      " -0.04936466 -0.05041555 -0.05132595 -0.0524186  -0.05353625 -0.05467596\n",
      " -0.05585231 -0.05704132 -0.05825753 -0.05949775]\n",
      "[ 0.01413296 -0.02505251 -0.06045442 -0.09217254 -0.11838109 -0.14203394\n",
      " -0.16114358 -0.17595545 -0.18058923 -0.18688363 -0.18931486 -0.18816578\n",
      " -0.18366126 -0.17556869 -0.16503976 -0.15231763 -0.12763954 -0.09114483\n",
      " -0.05613585 -0.02268675  0.00717771  0.0366512   0.06296184  0.08621067\n",
      "  0.09722383  0.11845068  0.13576081  0.14936132  0.15856035  0.16455247\n",
      "  0.16710472  0.16646689  0.1694117   0.18607275  0.1980021   0.20549816\n",
      "  0.2082817   0.20693032  0.20201009  0.19382081  0.18552788  0.16465986\n",
      "  0.14263783  0.1196684   0.09722825  0.07305603  0.04964202  0.02705385\n",
      " -0.02854966 -0.02821749 -0.02741126 -0.02617161 -0.02459458 -0.02254518\n",
      " -0.02026898 -0.01779555 -0.01609296 -0.01222385 -0.00846668 -0.00483302\n",
      " -0.0015448   0.00174646  0.00472631  0.00740259]\n",
      "[ 0.05163567 -0.00239544 -0.04946383 -0.08966123 -0.12323193 -0.15034143\n",
      " -0.17104775 -0.18559691 -0.19452004 -0.19790297 -0.19564808 -0.1879887\n",
      " -0.17508393 -0.1570935  -0.13424858 -0.10661591 -0.10442535 -0.07399858\n",
      " -0.04541587 -0.01870963  0.00620849  0.02937997  0.05075738  0.07046689\n",
      "  0.08904206  0.10695565  0.12363685  0.13934645  0.15447022  0.1693545\n",
      "  0.18440991  0.20003839  0.19238369  0.19995974  0.20370755  0.20393682\n",
      "  0.20096811  0.19510642  0.18675656  0.17618642  0.1640244   0.14906228\n",
      "  0.13359393  0.11780833  0.10183521  0.08582397  0.07003551  0.05455443\n",
      "  0.04387737  0.01849671 -0.00294691 -0.02044094 -0.03401627 -0.04367126\n",
      " -0.04932829 -0.05100832 -0.04848669 -0.04195786 -0.03081309 -0.01496838\n",
      "  0.00583076  0.03180975  0.06322943  0.10043752]\n",
      "[ 6.31029359e-02 -5.06243560e-06 -5.27024576e-02 -9.57889324e-02\n",
      " -1.30033456e-01 -1.56174285e-01 -1.74918960e-01 -1.86944313e-01\n",
      " -1.92946707e-01 -1.93494381e-01 -1.89295884e-01 -1.80891793e-01\n",
      " -1.68820610e-01 -1.53618759e-01 -1.35820584e-01 -1.15958355e-01\n",
      " -9.44053536e-02 -7.16175113e-02 -4.80540145e-02 -2.40698140e-02\n",
      " -9.62415209e-06  2.37920776e-02  4.70110505e-02  6.93332903e-02\n",
      "  9.05595356e-02  1.10429021e-01  1.28725295e-01  1.45273154e-01\n",
      "  1.59918737e-01  1.72529521e-01  1.82994323e-01  1.91223301e-01\n",
      "  1.97172592e-01  2.00815868e-01  2.02123955e-01  2.01128039e-01\n",
      "  1.97878405e-01  1.92444446e-01  1.84914656e-01  1.75396635e-01\n",
      "  1.64050539e-01  1.51080860e-01  1.36603647e-01  1.20880544e-01\n",
      "  1.04178006e-01  8.67673026e-02  6.89245126e-02  5.09305281e-02\n",
      "  3.32021913e-02  1.61290088e-02  5.81737922e-06 -1.46888476e-02\n",
      " -2.74791357e-02 -3.78918813e-02 -4.54566034e-02 -4.97055061e-02\n",
      " -4.99715441e-02 -4.57674984e-02 -3.64483198e-02 -2.14048757e-02\n",
      "  4.99825027e-06  2.84564987e-02  6.46578543e-02  1.09350326e-01]\n"
     ]
    }
   ],
   "source": [
    "print(state)\n",
    "print(y1)\n",
    "print(y2)\n",
    "print(y3)\n",
    "print(y4)"
   ]
  },
  {
   "attachments": {},
   "cell_type": "markdown",
   "id": "d3b8993f",
   "metadata": {},
   "source": [
    "### Monomials vs bound dimension\n",
    "\n",
    "$x^2, x^3, x^4, x^7$ for 4 qubits and $\\chi=1,2,3,4$"
   ]
  },
  {
   "cell_type": "code",
   "execution_count": 30,
   "id": "d3025e4a",
   "metadata": {},
   "outputs": [
    {
     "name": "stdout",
     "output_type": "stream",
     "text": [
      "Chi= 1\n",
      "Degree = 2 [0.99533044]\n",
      "Degree = 3 [0.99820588]\n",
      "Degree = 4 [0.99898141]\n",
      "Degree = 7 [0.99967706]\n",
      "Chi= 2\n",
      "Degree = 2 [0.99998973]\n",
      "Degree = 3 [0.99999744]\n",
      "Degree = 4 [0.99999882]\n",
      "Degree = 7 [0.99999995]\n",
      "Chi= 3\n",
      "Degree = 2 [1.]\n",
      "Degree = 3 [0.99999999]\n",
      "Degree = 4 [1.]\n",
      "Degree = 7 [1.]\n",
      "Chi= 4\n",
      "Degree = 2 [1.]\n",
      "Degree = 3 [1.]\n",
      "Degree = 4 [1.]\n",
      "Degree = 7 [1.]\n"
     ]
    }
   ],
   "source": [
    "\n",
    "\n",
    "degrees = [2,3,4,7]\n",
    "d=2\n",
    "L=4\n",
    "\n",
    "chi = 1\n",
    "print('Chi=',chi)\n",
    "\n",
    "for degree in degrees:\n",
    "    state = monomial_state(d, L, degree)\n",
    "    mps = MPS(state, L, d, chi)\n",
    "    approx_state = MPS_contraction(mps, L, d)\n",
    "    fidelity = np.abs(state @ approx_state)**2\n",
    "    print('Degree = '+str(degree), fidelity)\n",
    "\n",
    "\n",
    "chi = 2\n",
    "print('Chi=',chi)\n",
    "\n",
    "for degree in degrees:\n",
    "    state = monomial_state(d, L, degree)\n",
    "    mps = MPS(state, L, d, chi)\n",
    "    approx_state = MPS_contraction(mps, L, d)\n",
    "    fidelity = np.abs(state @ approx_state)**2\n",
    "    print('Degree = '+str(degree), fidelity)\n",
    "\n",
    "\n",
    "chi = 3\n",
    "print('Chi=',chi)\n",
    "\n",
    "for degree in degrees:\n",
    "    state = monomial_state(d, L, degree)\n",
    "    mps = MPS(state, L, d, chi)\n",
    "    approx_state = MPS_contraction(mps, L, d)\n",
    "    fidelity = np.abs(state @ approx_state)**2\n",
    "    print('Degree = '+str(degree), fidelity)\n",
    "\n",
    "\n",
    "chi = 4\n",
    "print('Chi=',chi)\n",
    "\n",
    "for degree in degrees:\n",
    "    state = monomial_state(d, L, degree)\n",
    "    mps = MPS(state, L, d, chi)\n",
    "    approx_state = MPS_contraction(mps, L, d)\n",
    "    fidelity = np.abs(state @ approx_state)**2\n",
    "    print('Degree = '+str(degree), fidelity)"
   ]
  },
  {
   "cell_type": "code",
   "execution_count": null,
   "id": "ef263136",
   "metadata": {},
   "outputs": [],
   "source": []
  }
 ],
 "metadata": {
  "kernelspec": {
   "display_name": "Python 3",
   "language": "python",
   "name": "python3"
  },
  "language_info": {
   "codemirror_mode": {
    "name": "ipython",
    "version": 3
   },
   "file_extension": ".py",
   "mimetype": "text/x-python",
   "name": "python",
   "nbconvert_exporter": "python",
   "pygments_lexer": "ipython3",
   "version": "3.11.0"
  },
  "vscode": {
   "interpreter": {
    "hash": "aee8b7b246df8f9039afb4144a1f6fd8d2ca17a180786b69acc140d282b71a49"
   }
  }
 },
 "nbformat": 4,
 "nbformat_minor": 5
}
